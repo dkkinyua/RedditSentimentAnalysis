{
 "cells": [
  {
   "cell_type": "code",
   "execution_count": 1,
   "metadata": {},
   "outputs": [
    {
     "data": {
      "text/plain": [
       "True"
      ]
     },
     "execution_count": 1,
     "metadata": {},
     "output_type": "execute_result"
    }
   ],
   "source": [
    "import os\n",
    "import praw\n",
    "from dotenv import load_dotenv\n",
    "\n",
    "load_dotenv()\n",
    "\n",
    "CLIENT_ID = os.getenv(\"CLIENT_ID\")\n",
    "SECRET_KEY = os.getenv(\"SECRET_KEY\")\n",
    "reddit = praw.Reddit(\n",
    "    client_id=CLIENT_ID,\n",
    "    client_secret=SECRET_KEY,\n",
    "    user_agent='data pipeline by u/user'\n",
    ")\n",
    "\n",
    "reddit.read_only"
   ]
  },
  {
   "cell_type": "code",
   "execution_count": 3,
   "metadata": {},
   "outputs": [
    {
     "data": {
      "text/plain": [
       "[{'id': '1ndjuyw',\n",
       "  'title': 'Reddit woman inboxed me in both accounts',\n",
       "  'url': 'https://www.reddit.com/r/Kenya/comments/1ndjuyw/reddit_woman_inboxed_me_in_both_accounts/',\n",
       "  'score': 281,\n",
       "  'author': 'RefrigeratorKey2982',\n",
       "  'author_karma': 5560,\n",
       "  'time_created': 1757523604.0},\n",
       " {'id': '1ndolve',\n",
       "  'title': 'Men who smell clean.',\n",
       "  'url': 'https://www.reddit.com/r/nairobi/comments/1ndolve/men_who_smell_clean/',\n",
       "  'score': 162,\n",
       "  'author': 'SeasonHoliday7682',\n",
       "  'author_karma': 81,\n",
       "  'time_created': 1757534267.0},\n",
       " {'id': '1ne22h3',\n",
       "  'title': 'Kenyans supporting Charlie Kirk',\n",
       "  'url': 'https://www.reddit.com/r/Kenya/comments/1ne22h3/kenyans_supporting_charlie_kirk/',\n",
       "  'score': 123,\n",
       "  'author': 'Lostnotfound1234',\n",
       "  'author_karma': 78,\n",
       "  'time_created': 1757574234.0},\n",
       " {'id': '1ne27ee',\n",
       "  'title': 'Men and celibacy',\n",
       "  'url': 'https://www.reddit.com/r/Kenya/comments/1ne27ee/men_and_celibacy/',\n",
       "  'score': 114,\n",
       "  'author': 'here-toconfess',\n",
       "  'author_karma': 1331,\n",
       "  'time_created': 1757574769.0},\n",
       " {'id': '1ndmbcf',\n",
       "  'title': 'What’s going on with your sister?',\n",
       "  'url': 'https://i.redd.it/pukbn7xyrdof1.jpeg',\n",
       "  'score': 107,\n",
       "  'author': 'OldCare3726',\n",
       "  'author_karma': 3173,\n",
       "  'time_created': 1757528997.0}]"
      ]
     },
     "execution_count": 3,
     "metadata": {},
     "output_type": "execute_result"
    }
   ],
   "source": [
    "subreddit = reddit.subreddit(\"kenya+nairobi\")\n",
    "limit = 50\n",
    "data = []\n",
    "\n",
    "for s in subreddit.top(time_filter='day', limit=limit):\n",
    "    data.append({\n",
    "        'id': s.id,\n",
    "        'title': s.title,\n",
    "        'url': s.url,\n",
    "        'score': s.score,\n",
    "        'author': s.author.name if s.author else None,\n",
    "        'author_karma': s.author.link_karma if s.author else None,\n",
    "        'time_created': s.created_utc\n",
    "    })\n",
    "\n",
    "data[0:5]"
   ]
  }
 ],
 "metadata": {
  "kernelspec": {
   "display_name": "myenv",
   "language": "python",
   "name": "python3"
  },
  "language_info": {
   "codemirror_mode": {
    "name": "ipython",
    "version": 3
   },
   "file_extension": ".py",
   "mimetype": "text/x-python",
   "name": "python",
   "nbconvert_exporter": "python",
   "pygments_lexer": "ipython3",
   "version": "3.10.12"
  }
 },
 "nbformat": 4,
 "nbformat_minor": 2
}
